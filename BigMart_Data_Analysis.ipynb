{
 "cells": [
  {
   "cell_type": "markdown",
   "id": "60582097",
   "metadata": {},
   "source": [
    "# Mini Project\n",
    "\n",
    "### Project Description\n",
    "\n",
    "* The data scientists at BigMart have collected 2013 sales data for 1559 products across 10 stores in different cities. Also,       certain attributes of each product and store have been defined. The aim of this data science project is to build a               predictive model and find out the sales of each product at a particular store.\n",
    "* Using this model, BigMart will try to understand the properties of products and stores which play a key role in increasing       sales.\n",
    "* The data has missing values as some stores do not report all the data due to technical glitches. Hence, it will be required       to treat them accordingly."
   ]
  },
  {
   "cell_type": "markdown",
   "id": "53463373",
   "metadata": {},
   "source": [
    "## Problem in the Structured way \n",
    "1. Problem Statement\n",
    "2. Hypothesis Generation\n",
    "3. Loading Packages and Data\n",
    "4. Data Structure and Content\n",
    "5. Exploratory Data Analysis\n",
    "6. Univariate Analysis\n",
    "7. Bivariate Analysis\n",
    "8. Missing Value Treatment\n",
    "9. Feature Engineering\n",
    "10. Encoding Categorical Variables\n",
    "11. Label Encoding\n",
    "12. One Hot Encoding\n",
    "13. PreProcessing Data\n",
    "14. Modeling\n",
    "15. Linear Regression\n",
    "16. Regularized Linear Regression\n",
    "17. RandomForest\n",
    "18. XGBoost\n",
    "19. Summary"
   ]
  },
  {
   "cell_type": "markdown",
   "id": "674359e8",
   "metadata": {},
   "source": [
    "### Data Source\n",
    " Data Source link: https://shahyaseen71.gitbook.io/machine-learning-project/\n",
    "* The Folder will be in Compress format, which we have to extract, and after that, we will be getting to files which will be train.csv and test.csv."
   ]
  },
  {
   "cell_type": "code",
   "execution_count": 1,
   "id": "c062cc07",
   "metadata": {},
   "outputs": [],
   "source": [
    "# Importing all the comman library\n",
    "import pandas as pd\n",
    "import numpy as np\n",
    "import seaborn as sns\n",
    "import matplotlib.pyplot as plt"
   ]
  },
  {
   "cell_type": "code",
   "execution_count": 164,
   "id": "63305d91",
   "metadata": {},
   "outputs": [
    {
     "name": "stdout",
     "output_type": "stream",
     "text": [
      "(8523, 12)\n"
     ]
    },
    {
     "data": {
      "text/html": [
       "<div>\n",
       "<style scoped>\n",
       "    .dataframe tbody tr th:only-of-type {\n",
       "        vertical-align: middle;\n",
       "    }\n",
       "\n",
       "    .dataframe tbody tr th {\n",
       "        vertical-align: top;\n",
       "    }\n",
       "\n",
       "    .dataframe thead th {\n",
       "        text-align: right;\n",
       "    }\n",
       "</style>\n",
       "<table border=\"1\" class=\"dataframe\">\n",
       "  <thead>\n",
       "    <tr style=\"text-align: right;\">\n",
       "      <th></th>\n",
       "      <th>Item_Identifier</th>\n",
       "      <th>Item_Weight</th>\n",
       "      <th>Item_Fat_Content</th>\n",
       "      <th>Item_Visibility</th>\n",
       "      <th>Item_Type</th>\n",
       "      <th>Item_MRP</th>\n",
       "      <th>Outlet_Identifier</th>\n",
       "      <th>Outlet_Establishment_Year</th>\n",
       "      <th>Outlet_Size</th>\n",
       "      <th>Outlet_Location_Type</th>\n",
       "      <th>Outlet_Type</th>\n",
       "      <th>Item_Outlet_Sales</th>\n",
       "    </tr>\n",
       "  </thead>\n",
       "  <tbody>\n",
       "    <tr>\n",
       "      <th>0</th>\n",
       "      <td>FDA15</td>\n",
       "      <td>9.30</td>\n",
       "      <td>Low Fat</td>\n",
       "      <td>0.016047</td>\n",
       "      <td>Dairy</td>\n",
       "      <td>249.8092</td>\n",
       "      <td>OUT049</td>\n",
       "      <td>1999</td>\n",
       "      <td>Medium</td>\n",
       "      <td>Tier 1</td>\n",
       "      <td>Supermarket Type1</td>\n",
       "      <td>3735.1380</td>\n",
       "    </tr>\n",
       "    <tr>\n",
       "      <th>1</th>\n",
       "      <td>DRC01</td>\n",
       "      <td>5.92</td>\n",
       "      <td>Regular</td>\n",
       "      <td>0.019278</td>\n",
       "      <td>Soft Drinks</td>\n",
       "      <td>48.2692</td>\n",
       "      <td>OUT018</td>\n",
       "      <td>2009</td>\n",
       "      <td>Medium</td>\n",
       "      <td>Tier 3</td>\n",
       "      <td>Supermarket Type2</td>\n",
       "      <td>443.4228</td>\n",
       "    </tr>\n",
       "    <tr>\n",
       "      <th>2</th>\n",
       "      <td>FDN15</td>\n",
       "      <td>17.50</td>\n",
       "      <td>Low Fat</td>\n",
       "      <td>0.016760</td>\n",
       "      <td>Meat</td>\n",
       "      <td>141.6180</td>\n",
       "      <td>OUT049</td>\n",
       "      <td>1999</td>\n",
       "      <td>Medium</td>\n",
       "      <td>Tier 1</td>\n",
       "      <td>Supermarket Type1</td>\n",
       "      <td>2097.2700</td>\n",
       "    </tr>\n",
       "    <tr>\n",
       "      <th>3</th>\n",
       "      <td>FDX07</td>\n",
       "      <td>19.20</td>\n",
       "      <td>Regular</td>\n",
       "      <td>0.000000</td>\n",
       "      <td>Fruits and Vegetables</td>\n",
       "      <td>182.0950</td>\n",
       "      <td>OUT010</td>\n",
       "      <td>1998</td>\n",
       "      <td>NaN</td>\n",
       "      <td>Tier 3</td>\n",
       "      <td>Grocery Store</td>\n",
       "      <td>732.3800</td>\n",
       "    </tr>\n",
       "    <tr>\n",
       "      <th>4</th>\n",
       "      <td>NCD19</td>\n",
       "      <td>8.93</td>\n",
       "      <td>Low Fat</td>\n",
       "      <td>0.000000</td>\n",
       "      <td>Household</td>\n",
       "      <td>53.8614</td>\n",
       "      <td>OUT013</td>\n",
       "      <td>1987</td>\n",
       "      <td>High</td>\n",
       "      <td>Tier 3</td>\n",
       "      <td>Supermarket Type1</td>\n",
       "      <td>994.7052</td>\n",
       "    </tr>\n",
       "  </tbody>\n",
       "</table>\n",
       "</div>"
      ],
      "text/plain": [
       "  Item_Identifier  Item_Weight Item_Fat_Content  Item_Visibility  \\\n",
       "0           FDA15         9.30          Low Fat         0.016047   \n",
       "1           DRC01         5.92          Regular         0.019278   \n",
       "2           FDN15        17.50          Low Fat         0.016760   \n",
       "3           FDX07        19.20          Regular         0.000000   \n",
       "4           NCD19         8.93          Low Fat         0.000000   \n",
       "\n",
       "               Item_Type  Item_MRP Outlet_Identifier  \\\n",
       "0                  Dairy  249.8092            OUT049   \n",
       "1            Soft Drinks   48.2692            OUT018   \n",
       "2                   Meat  141.6180            OUT049   \n",
       "3  Fruits and Vegetables  182.0950            OUT010   \n",
       "4              Household   53.8614            OUT013   \n",
       "\n",
       "   Outlet_Establishment_Year Outlet_Size Outlet_Location_Type  \\\n",
       "0                       1999      Medium               Tier 1   \n",
       "1                       2009      Medium               Tier 3   \n",
       "2                       1999      Medium               Tier 1   \n",
       "3                       1998         NaN               Tier 3   \n",
       "4                       1987        High               Tier 3   \n",
       "\n",
       "         Outlet_Type  Item_Outlet_Sales  \n",
       "0  Supermarket Type1          3735.1380  \n",
       "1  Supermarket Type2           443.4228  \n",
       "2  Supermarket Type1          2097.2700  \n",
       "3      Grocery Store           732.3800  \n",
       "4  Supermarket Type1           994.7052  "
      ]
     },
     "execution_count": 164,
     "metadata": {},
     "output_type": "execute_result"
    }
   ],
   "source": [
    "# Importing both the file\n",
    "sales_train = pd.read_csv(\"../ML_Internship/9961_14084_bundle_archive/Train.csv\")\n",
    "sales_test = pd.read_csv(\"../ML_Internship/9961_14084_bundle_archive/Test.csv\")\n",
    "\n",
    "print(sales_train.shape)\n",
    "sales_train.head(5)"
   ]
  },
  {
   "cell_type": "code",
   "execution_count": 165,
   "id": "8f63c273",
   "metadata": {},
   "outputs": [
    {
     "name": "stdout",
     "output_type": "stream",
     "text": [
      "(5681, 11)\n"
     ]
    },
    {
     "data": {
      "text/html": [
       "<div>\n",
       "<style scoped>\n",
       "    .dataframe tbody tr th:only-of-type {\n",
       "        vertical-align: middle;\n",
       "    }\n",
       "\n",
       "    .dataframe tbody tr th {\n",
       "        vertical-align: top;\n",
       "    }\n",
       "\n",
       "    .dataframe thead th {\n",
       "        text-align: right;\n",
       "    }\n",
       "</style>\n",
       "<table border=\"1\" class=\"dataframe\">\n",
       "  <thead>\n",
       "    <tr style=\"text-align: right;\">\n",
       "      <th></th>\n",
       "      <th>Item_Identifier</th>\n",
       "      <th>Item_Weight</th>\n",
       "      <th>Item_Fat_Content</th>\n",
       "      <th>Item_Visibility</th>\n",
       "      <th>Item_Type</th>\n",
       "      <th>Item_MRP</th>\n",
       "      <th>Outlet_Identifier</th>\n",
       "      <th>Outlet_Establishment_Year</th>\n",
       "      <th>Outlet_Size</th>\n",
       "      <th>Outlet_Location_Type</th>\n",
       "      <th>Outlet_Type</th>\n",
       "    </tr>\n",
       "  </thead>\n",
       "  <tbody>\n",
       "    <tr>\n",
       "      <th>0</th>\n",
       "      <td>FDW58</td>\n",
       "      <td>20.750</td>\n",
       "      <td>Low Fat</td>\n",
       "      <td>0.007565</td>\n",
       "      <td>Snack Foods</td>\n",
       "      <td>107.8622</td>\n",
       "      <td>OUT049</td>\n",
       "      <td>1999</td>\n",
       "      <td>Medium</td>\n",
       "      <td>Tier 1</td>\n",
       "      <td>Supermarket Type1</td>\n",
       "    </tr>\n",
       "    <tr>\n",
       "      <th>1</th>\n",
       "      <td>FDW14</td>\n",
       "      <td>8.300</td>\n",
       "      <td>reg</td>\n",
       "      <td>0.038428</td>\n",
       "      <td>Dairy</td>\n",
       "      <td>87.3198</td>\n",
       "      <td>OUT017</td>\n",
       "      <td>2007</td>\n",
       "      <td>NaN</td>\n",
       "      <td>Tier 2</td>\n",
       "      <td>Supermarket Type1</td>\n",
       "    </tr>\n",
       "    <tr>\n",
       "      <th>2</th>\n",
       "      <td>NCN55</td>\n",
       "      <td>14.600</td>\n",
       "      <td>Low Fat</td>\n",
       "      <td>0.099575</td>\n",
       "      <td>Others</td>\n",
       "      <td>241.7538</td>\n",
       "      <td>OUT010</td>\n",
       "      <td>1998</td>\n",
       "      <td>NaN</td>\n",
       "      <td>Tier 3</td>\n",
       "      <td>Grocery Store</td>\n",
       "    </tr>\n",
       "    <tr>\n",
       "      <th>3</th>\n",
       "      <td>FDQ58</td>\n",
       "      <td>7.315</td>\n",
       "      <td>Low Fat</td>\n",
       "      <td>0.015388</td>\n",
       "      <td>Snack Foods</td>\n",
       "      <td>155.0340</td>\n",
       "      <td>OUT017</td>\n",
       "      <td>2007</td>\n",
       "      <td>NaN</td>\n",
       "      <td>Tier 2</td>\n",
       "      <td>Supermarket Type1</td>\n",
       "    </tr>\n",
       "    <tr>\n",
       "      <th>4</th>\n",
       "      <td>FDY38</td>\n",
       "      <td>NaN</td>\n",
       "      <td>Regular</td>\n",
       "      <td>0.118599</td>\n",
       "      <td>Dairy</td>\n",
       "      <td>234.2300</td>\n",
       "      <td>OUT027</td>\n",
       "      <td>1985</td>\n",
       "      <td>Medium</td>\n",
       "      <td>Tier 3</td>\n",
       "      <td>Supermarket Type3</td>\n",
       "    </tr>\n",
       "  </tbody>\n",
       "</table>\n",
       "</div>"
      ],
      "text/plain": [
       "  Item_Identifier  Item_Weight Item_Fat_Content  Item_Visibility    Item_Type  \\\n",
       "0           FDW58       20.750          Low Fat         0.007565  Snack Foods   \n",
       "1           FDW14        8.300              reg         0.038428        Dairy   \n",
       "2           NCN55       14.600          Low Fat         0.099575       Others   \n",
       "3           FDQ58        7.315          Low Fat         0.015388  Snack Foods   \n",
       "4           FDY38          NaN          Regular         0.118599        Dairy   \n",
       "\n",
       "   Item_MRP Outlet_Identifier  Outlet_Establishment_Year Outlet_Size  \\\n",
       "0  107.8622            OUT049                       1999      Medium   \n",
       "1   87.3198            OUT017                       2007         NaN   \n",
       "2  241.7538            OUT010                       1998         NaN   \n",
       "3  155.0340            OUT017                       2007         NaN   \n",
       "4  234.2300            OUT027                       1985      Medium   \n",
       "\n",
       "  Outlet_Location_Type        Outlet_Type  \n",
       "0               Tier 1  Supermarket Type1  \n",
       "1               Tier 2  Supermarket Type1  \n",
       "2               Tier 3      Grocery Store  \n",
       "3               Tier 2  Supermarket Type1  \n",
       "4               Tier 3  Supermarket Type3  "
      ]
     },
     "execution_count": 165,
     "metadata": {},
     "output_type": "execute_result"
    }
   ],
   "source": [
    "print(sales_test.shape)\n",
    "sales_test.head(5)"
   ]
  },
  {
   "cell_type": "code",
   "execution_count": 7,
   "id": "6313e7c9",
   "metadata": {},
   "outputs": [
    {
     "data": {
      "text/plain": [
       "Index(['Item_Identifier', 'Item_Weight', 'Item_Fat_Content', 'Item_Visibility',\n",
       "       'Item_Type', 'Item_MRP', 'Outlet_Identifier',\n",
       "       'Outlet_Establishment_Year', 'Outlet_Size', 'Outlet_Location_Type',\n",
       "       'Outlet_Type', 'Item_Outlet_Sales'],\n",
       "      dtype='object')"
      ]
     },
     "execution_count": 7,
     "metadata": {},
     "output_type": "execute_result"
    }
   ],
   "source": [
    "# Seeing all the columns of the Sales_train\n",
    "sales_train.columns"
   ]
  },
  {
   "cell_type": "code",
   "execution_count": 8,
   "id": "3b356d7b",
   "metadata": {},
   "outputs": [
    {
     "data": {
      "text/plain": [
       "Index(['Item_Identifier', 'Item_Weight', 'Item_Fat_Content', 'Item_Visibility',\n",
       "       'Item_Type', 'Item_MRP', 'Outlet_Identifier',\n",
       "       'Outlet_Establishment_Year', 'Outlet_Size', 'Outlet_Location_Type',\n",
       "       'Outlet_Type'],\n",
       "      dtype='object')"
      ]
     },
     "execution_count": 8,
     "metadata": {},
     "output_type": "execute_result"
    }
   ],
   "source": [
    "# Seeing all the columns of the Sales_test\n",
    "sales_test.columns"
   ]
  },
  {
   "cell_type": "code",
   "execution_count": 10,
   "id": "5d67e594",
   "metadata": {},
   "outputs": [
    {
     "data": {
      "text/html": [
       "<div>\n",
       "<style scoped>\n",
       "    .dataframe tbody tr th:only-of-type {\n",
       "        vertical-align: middle;\n",
       "    }\n",
       "\n",
       "    .dataframe tbody tr th {\n",
       "        vertical-align: top;\n",
       "    }\n",
       "\n",
       "    .dataframe thead th {\n",
       "        text-align: right;\n",
       "    }\n",
       "</style>\n",
       "<table border=\"1\" class=\"dataframe\">\n",
       "  <thead>\n",
       "    <tr style=\"text-align: right;\">\n",
       "      <th></th>\n",
       "      <th>Item_Weight</th>\n",
       "      <th>Item_Visibility</th>\n",
       "      <th>Item_MRP</th>\n",
       "      <th>Outlet_Establishment_Year</th>\n",
       "      <th>Item_Outlet_Sales</th>\n",
       "    </tr>\n",
       "  </thead>\n",
       "  <tbody>\n",
       "    <tr>\n",
       "      <th>count</th>\n",
       "      <td>7060.000000</td>\n",
       "      <td>8523.000000</td>\n",
       "      <td>8523.000000</td>\n",
       "      <td>8523.000000</td>\n",
       "      <td>8523.000000</td>\n",
       "    </tr>\n",
       "    <tr>\n",
       "      <th>mean</th>\n",
       "      <td>12.857645</td>\n",
       "      <td>0.066132</td>\n",
       "      <td>140.992782</td>\n",
       "      <td>1997.831867</td>\n",
       "      <td>2181.288914</td>\n",
       "    </tr>\n",
       "    <tr>\n",
       "      <th>std</th>\n",
       "      <td>4.643456</td>\n",
       "      <td>0.051598</td>\n",
       "      <td>62.275067</td>\n",
       "      <td>8.371760</td>\n",
       "      <td>1706.499616</td>\n",
       "    </tr>\n",
       "    <tr>\n",
       "      <th>min</th>\n",
       "      <td>4.555000</td>\n",
       "      <td>0.000000</td>\n",
       "      <td>31.290000</td>\n",
       "      <td>1985.000000</td>\n",
       "      <td>33.290000</td>\n",
       "    </tr>\n",
       "    <tr>\n",
       "      <th>25%</th>\n",
       "      <td>8.773750</td>\n",
       "      <td>0.026989</td>\n",
       "      <td>93.826500</td>\n",
       "      <td>1987.000000</td>\n",
       "      <td>834.247400</td>\n",
       "    </tr>\n",
       "    <tr>\n",
       "      <th>50%</th>\n",
       "      <td>12.600000</td>\n",
       "      <td>0.053931</td>\n",
       "      <td>143.012800</td>\n",
       "      <td>1999.000000</td>\n",
       "      <td>1794.331000</td>\n",
       "    </tr>\n",
       "    <tr>\n",
       "      <th>75%</th>\n",
       "      <td>16.850000</td>\n",
       "      <td>0.094585</td>\n",
       "      <td>185.643700</td>\n",
       "      <td>2004.000000</td>\n",
       "      <td>3101.296400</td>\n",
       "    </tr>\n",
       "    <tr>\n",
       "      <th>max</th>\n",
       "      <td>21.350000</td>\n",
       "      <td>0.328391</td>\n",
       "      <td>266.888400</td>\n",
       "      <td>2009.000000</td>\n",
       "      <td>13086.964800</td>\n",
       "    </tr>\n",
       "  </tbody>\n",
       "</table>\n",
       "</div>"
      ],
      "text/plain": [
       "       Item_Weight  Item_Visibility     Item_MRP  Outlet_Establishment_Year  \\\n",
       "count  7060.000000      8523.000000  8523.000000                8523.000000   \n",
       "mean     12.857645         0.066132   140.992782                1997.831867   \n",
       "std       4.643456         0.051598    62.275067                   8.371760   \n",
       "min       4.555000         0.000000    31.290000                1985.000000   \n",
       "25%       8.773750         0.026989    93.826500                1987.000000   \n",
       "50%      12.600000         0.053931   143.012800                1999.000000   \n",
       "75%      16.850000         0.094585   185.643700                2004.000000   \n",
       "max      21.350000         0.328391   266.888400                2009.000000   \n",
       "\n",
       "       Item_Outlet_Sales  \n",
       "count        8523.000000  \n",
       "mean         2181.288914  \n",
       "std          1706.499616  \n",
       "min            33.290000  \n",
       "25%           834.247400  \n",
       "50%          1794.331000  \n",
       "75%          3101.296400  \n",
       "max         13086.964800  "
      ]
     },
     "execution_count": 10,
     "metadata": {},
     "output_type": "execute_result"
    }
   ],
   "source": [
    "# Describing the dataset of train\n",
    "sales_train.describe()"
   ]
  },
  {
   "cell_type": "code",
   "execution_count": 11,
   "id": "fd9b2131",
   "metadata": {},
   "outputs": [
    {
     "data": {
      "text/html": [
       "<div>\n",
       "<style scoped>\n",
       "    .dataframe tbody tr th:only-of-type {\n",
       "        vertical-align: middle;\n",
       "    }\n",
       "\n",
       "    .dataframe tbody tr th {\n",
       "        vertical-align: top;\n",
       "    }\n",
       "\n",
       "    .dataframe thead th {\n",
       "        text-align: right;\n",
       "    }\n",
       "</style>\n",
       "<table border=\"1\" class=\"dataframe\">\n",
       "  <thead>\n",
       "    <tr style=\"text-align: right;\">\n",
       "      <th></th>\n",
       "      <th>Item_Weight</th>\n",
       "      <th>Item_Visibility</th>\n",
       "      <th>Item_MRP</th>\n",
       "      <th>Outlet_Establishment_Year</th>\n",
       "    </tr>\n",
       "  </thead>\n",
       "  <tbody>\n",
       "    <tr>\n",
       "      <th>count</th>\n",
       "      <td>4705.000000</td>\n",
       "      <td>5681.000000</td>\n",
       "      <td>5681.000000</td>\n",
       "      <td>5681.000000</td>\n",
       "    </tr>\n",
       "    <tr>\n",
       "      <th>mean</th>\n",
       "      <td>12.695633</td>\n",
       "      <td>0.065684</td>\n",
       "      <td>141.023273</td>\n",
       "      <td>1997.828903</td>\n",
       "    </tr>\n",
       "    <tr>\n",
       "      <th>std</th>\n",
       "      <td>4.664849</td>\n",
       "      <td>0.051252</td>\n",
       "      <td>61.809091</td>\n",
       "      <td>8.372256</td>\n",
       "    </tr>\n",
       "    <tr>\n",
       "      <th>min</th>\n",
       "      <td>4.555000</td>\n",
       "      <td>0.000000</td>\n",
       "      <td>31.990000</td>\n",
       "      <td>1985.000000</td>\n",
       "    </tr>\n",
       "    <tr>\n",
       "      <th>25%</th>\n",
       "      <td>8.645000</td>\n",
       "      <td>0.027047</td>\n",
       "      <td>94.412000</td>\n",
       "      <td>1987.000000</td>\n",
       "    </tr>\n",
       "    <tr>\n",
       "      <th>50%</th>\n",
       "      <td>12.500000</td>\n",
       "      <td>0.054154</td>\n",
       "      <td>141.415400</td>\n",
       "      <td>1999.000000</td>\n",
       "    </tr>\n",
       "    <tr>\n",
       "      <th>75%</th>\n",
       "      <td>16.700000</td>\n",
       "      <td>0.093463</td>\n",
       "      <td>186.026600</td>\n",
       "      <td>2004.000000</td>\n",
       "    </tr>\n",
       "    <tr>\n",
       "      <th>max</th>\n",
       "      <td>21.350000</td>\n",
       "      <td>0.323637</td>\n",
       "      <td>266.588400</td>\n",
       "      <td>2009.000000</td>\n",
       "    </tr>\n",
       "  </tbody>\n",
       "</table>\n",
       "</div>"
      ],
      "text/plain": [
       "       Item_Weight  Item_Visibility     Item_MRP  Outlet_Establishment_Year\n",
       "count  4705.000000      5681.000000  5681.000000                5681.000000\n",
       "mean     12.695633         0.065684   141.023273                1997.828903\n",
       "std       4.664849         0.051252    61.809091                   8.372256\n",
       "min       4.555000         0.000000    31.990000                1985.000000\n",
       "25%       8.645000         0.027047    94.412000                1987.000000\n",
       "50%      12.500000         0.054154   141.415400                1999.000000\n",
       "75%      16.700000         0.093463   186.026600                2004.000000\n",
       "max      21.350000         0.323637   266.588400                2009.000000"
      ]
     },
     "execution_count": 11,
     "metadata": {},
     "output_type": "execute_result"
    }
   ],
   "source": [
    "#Describing the dataset of test \n",
    "sales_test.describe()"
   ]
  },
  {
   "cell_type": "code",
   "execution_count": 18,
   "id": "c2f1a2c9",
   "metadata": {},
   "outputs": [
    {
     "name": "stdout",
     "output_type": "stream",
     "text": [
      "<class 'pandas.core.frame.DataFrame'>\n",
      "RangeIndex: 8523 entries, 0 to 8522\n",
      "Data columns (total 12 columns):\n",
      " #   Column                     Non-Null Count  Dtype  \n",
      "---  ------                     --------------  -----  \n",
      " 0   Item_Identifier            8523 non-null   object \n",
      " 1   Item_Weight                7060 non-null   float64\n",
      " 2   Item_Fat_Content           8523 non-null   object \n",
      " 3   Item_Visibility            8523 non-null   float64\n",
      " 4   Item_Type                  8523 non-null   object \n",
      " 5   Item_MRP                   8523 non-null   float64\n",
      " 6   Outlet_Identifier          8523 non-null   object \n",
      " 7   Outlet_Establishment_Year  8523 non-null   int64  \n",
      " 8   Outlet_Size                6113 non-null   object \n",
      " 9   Outlet_Location_Type       8523 non-null   object \n",
      " 10  Outlet_Type                8523 non-null   object \n",
      " 11  Item_Outlet_Sales          8523 non-null   float64\n",
      "dtypes: float64(4), int64(1), object(7)\n",
      "memory usage: 799.2+ KB\n",
      "<class 'pandas.core.frame.DataFrame'>\n",
      "RangeIndex: 5681 entries, 0 to 5680\n",
      "Data columns (total 11 columns):\n",
      " #   Column                     Non-Null Count  Dtype  \n",
      "---  ------                     --------------  -----  \n",
      " 0   Item_Identifier            5681 non-null   object \n",
      " 1   Item_Weight                4705 non-null   float64\n",
      " 2   Item_Fat_Content           5681 non-null   object \n",
      " 3   Item_Visibility            5681 non-null   float64\n",
      " 4   Item_Type                  5681 non-null   object \n",
      " 5   Item_MRP                   5681 non-null   float64\n",
      " 6   Outlet_Identifier          5681 non-null   object \n",
      " 7   Outlet_Establishment_Year  5681 non-null   int64  \n",
      " 8   Outlet_Size                4075 non-null   object \n",
      " 9   Outlet_Location_Type       5681 non-null   object \n",
      " 10  Outlet_Type                5681 non-null   object \n",
      "dtypes: float64(3), int64(1), object(7)\n",
      "memory usage: 488.3+ KB\n",
      "None None\n"
     ]
    }
   ],
   "source": [
    "# And now the information of the dataset of train and test\n",
    "print(sales_train.info(), sales_test.info())"
   ]
  },
  {
   "cell_type": "code",
   "execution_count": 24,
   "id": "61e121e9",
   "metadata": {},
   "outputs": [
    {
     "name": "stdout",
     "output_type": "stream",
     "text": [
      "Item_Identifier                 0\n",
      "Item_Weight                  1463\n",
      "Item_Fat_Content                0\n",
      "Item_Visibility                 0\n",
      "Item_Type                       0\n",
      "Item_MRP                        0\n",
      "Outlet_Identifier               0\n",
      "Outlet_Establishment_Year       0\n",
      "Outlet_Size                  2410\n",
      "Outlet_Location_Type            0\n",
      "Outlet_Type                     0\n",
      "Item_Outlet_Sales               0\n",
      "dtype: int64\n",
      "##############################\n",
      "Item_Identifier                 0\n",
      "Item_Weight                   976\n",
      "Item_Fat_Content                0\n",
      "Item_Visibility                 0\n",
      "Item_Type                       0\n",
      "Item_MRP                        0\n",
      "Outlet_Identifier               0\n",
      "Outlet_Establishment_Year       0\n",
      "Outlet_Size                  1606\n",
      "Outlet_Location_Type            0\n",
      "Outlet_Type                     0\n",
      "dtype: int64\n"
     ]
    }
   ],
   "source": [
    "# Seeing the null values in train and test data\n",
    "print(sales_train.isnull().sum())\n",
    "print(\"##############################\")\n",
    "print(sales_test.isnull().sum())"
   ]
  },
  {
   "cell_type": "markdown",
   "id": "737ec131",
   "metadata": {},
   "source": [
    "Filling all the missing value by the accurate or near accurate value in place by using the `fillna()` method"
   ]
  },
  {
   "cell_type": "code",
   "execution_count": 51,
   "id": "b03cba50",
   "metadata": {},
   "outputs": [
    {
     "data": {
      "text/plain": [
       "Medium    5203\n",
       "Small     2388\n",
       "High       932\n",
       "Name: Outlet_Size, dtype: int64"
      ]
     },
     "execution_count": 51,
     "metadata": {},
     "output_type": "execute_result"
    }
   ],
   "source": [
    "sales_train[\"Outlet_Size\"].value_counts()"
   ]
  },
  {
   "cell_type": "code",
   "execution_count": 166,
   "id": "ae22043e",
   "metadata": {},
   "outputs": [],
   "source": [
    "# Filling the null value of train dataset\n",
    "sales_train[\"Item_Weight\"] = sales_train[\"Item_Weight\"].fillna(sales_train[\"Item_Weight\"].mean())\n",
    "# After going through the data we realise that the frequent size was medium\n",
    "sales_train[\"Outlet_Size\"] = sales_train[\"Outlet_Size\"].fillna('Medium')"
   ]
  },
  {
   "cell_type": "code",
   "execution_count": 52,
   "id": "005608b1",
   "metadata": {},
   "outputs": [
    {
     "data": {
      "text/plain": [
       "Medium    3468\n",
       "Small     1592\n",
       "High       621\n",
       "Name: Outlet_Size, dtype: int64"
      ]
     },
     "execution_count": 52,
     "metadata": {},
     "output_type": "execute_result"
    }
   ],
   "source": [
    "sales_test[\"Outlet_Size\"].value_counts()"
   ]
  },
  {
   "cell_type": "code",
   "execution_count": 167,
   "id": "cf2dc324",
   "metadata": {},
   "outputs": [],
   "source": [
    "# Filling the null value of test dataset\n",
    "sales_test[\"Item_Weight\"] = sales_test[\"Item_Weight\"].fillna(sales_test[\"Item_Weight\"].mean())\n",
    "# Same goes with the test dataset also\n",
    "sales_test[\"Outlet_Size\"] = sales_test[\"Outlet_Size\"].fillna('Medium')"
   ]
  },
  {
   "cell_type": "code",
   "execution_count": 28,
   "id": "843c3fd0",
   "metadata": {},
   "outputs": [
    {
     "data": {
      "text/plain": [
       "Item_Identifier              0\n",
       "Item_Weight                  0\n",
       "Item_Fat_Content             0\n",
       "Item_Visibility              0\n",
       "Item_Type                    0\n",
       "Item_MRP                     0\n",
       "Outlet_Identifier            0\n",
       "Outlet_Establishment_Year    0\n",
       "Outlet_Size                  0\n",
       "Outlet_Location_Type         0\n",
       "Outlet_Type                  0\n",
       "Item_Outlet_Sales            0\n",
       "dtype: int64"
      ]
     },
     "execution_count": 28,
     "metadata": {},
     "output_type": "execute_result"
    }
   ],
   "source": [
    "sales_train.isnull().sum()"
   ]
  },
  {
   "cell_type": "code",
   "execution_count": 29,
   "id": "489dceea",
   "metadata": {},
   "outputs": [
    {
     "data": {
      "text/plain": [
       "Item_Identifier              0\n",
       "Item_Weight                  0\n",
       "Item_Fat_Content             0\n",
       "Item_Visibility              0\n",
       "Item_Type                    0\n",
       "Item_MRP                     0\n",
       "Outlet_Identifier            0\n",
       "Outlet_Establishment_Year    0\n",
       "Outlet_Size                  0\n",
       "Outlet_Location_Type         0\n",
       "Outlet_Type                  0\n",
       "dtype: int64"
      ]
     },
     "execution_count": 29,
     "metadata": {},
     "output_type": "execute_result"
    }
   ],
   "source": [
    "sales_test.isnull().sum()"
   ]
  },
  {
   "cell_type": "markdown",
   "id": "2355d92d",
   "metadata": {},
   "source": [
    "### Data Analysis through visualization "
   ]
  },
  {
   "cell_type": "code",
   "execution_count": 168,
   "id": "16cb7174",
   "metadata": {},
   "outputs": [
    {
     "name": "stderr",
     "output_type": "stream",
     "text": [
      "C:\\Miniconda3\\Codes\\env\\lib\\site-packages\\seaborn\\distributions.py:2619: FutureWarning: `distplot` is a deprecated function and will be removed in a future version. Please adapt your code to use either `displot` (a figure-level function with similar flexibility) or `histplot` (an axes-level function for histograms).\n",
      "  warnings.warn(msg, FutureWarning)\n"
     ]
    },
    {
     "data": {
      "image/png": "[encoded data removed]",
      "text/plain": [
       "<Figure size 1152x360 with 2 Axes>"
      ]
     },
     "metadata": {},
     "output_type": "display_data"
    }
   ],
   "source": [
    "# For changing the style of the graph\n",
    "plt.style.use('seaborn-whitegrid')\n",
    "\n",
    "# Focusing on the target variable which also known as dependent feature in our case for train dataset it is `Item_outlet_Sales`\n",
    "plt.figure(1)\n",
    "plt.subplot(121)\n",
    "sns.distplot(sales_train['Item_Outlet_Sales'])\n",
    "plt.subplot(122)\n",
    "sales_train['Item_Outlet_Sales'].plot.box(figsize=(16,5))\n",
    "plt.show()"
   ]
  },
  {
   "cell_type": "code",
   "execution_count": 169,
   "id": "154e03d9",
   "metadata": {},
   "outputs": [
    {
     "name": "stderr",
     "output_type": "stream",
     "text": [
      "C:\\Miniconda3\\Codes\\env\\lib\\site-packages\\seaborn\\_decorators.py:36: FutureWarning: Pass the following variable as a keyword arg: x. From version 0.12, the only valid positional argument will be `data`, and passing other arguments without an explicit keyword will result in an error or misinterpretation.\n",
      "  warnings.warn(\n"
     ]
    },
    {
     "data": {
      "text/plain": [
       "<AxesSubplot:xlabel='Item_Weight'>"
      ]
     },
     "execution_count": 169,
     "metadata": {},
     "output_type": "execute_result"
    },
    {
     "data": {
      "image/png": "[encoded data removed]",
      "text/plain": [
       "<Figure size 432x288 with 1 Axes>"
      ]
     },
     "metadata": {},
     "output_type": "display_data"
    }
   ],
   "source": [
    "sns.boxplot(sales_train['Item_Weight'])"
   ]
  },
  {
   "cell_type": "code",
   "execution_count": 170,
   "id": "6cee64cd",
   "metadata": {},
   "outputs": [
    {
     "data": {
      "text/plain": [
       "<AxesSubplot:xlabel='Outlet_Size', ylabel='count'>"
      ]
     },
     "execution_count": 170,
     "metadata": {},
     "output_type": "execute_result"
    },
    {
     "data": {
      "image/png": "[encoded data removed]",
      "text/plain": [
       "<Figure size 720x360 with 1 Axes>"
      ]
     },
     "metadata": {},
     "output_type": "display_data"
    }
   ],
   "source": [
    "# Moving on from train dependent feature to independent features. Analysis of the independent features with the visualize format.\n",
    "plt.figure(figsize=(10,5))\n",
    "sns.countplot(x='Outlet_Size',data=sales_train)"
   ]
  },
  {
   "cell_type": "code",
   "execution_count": 171,
   "id": "032efbd5",
   "metadata": {},
   "outputs": [
    {
     "data": {
      "text/plain": [
       "<AxesSubplot:xlabel='Outlet_Identifier', ylabel='count'>"
      ]
     },
     "execution_count": 171,
     "metadata": {},
     "output_type": "execute_result"
    },
    {
     "data": {
      "image/png": "[encoded data removed]",
      "text/plain": [
       "<Figure size 720x360 with 1 Axes>"
      ]
     },
     "metadata": {},
     "output_type": "display_data"
    }
   ],
   "source": [
    "plt.figure(figsize=(10,5))\n",
    "sns.countplot(x='Outlet_Identifier',data=sales_train)"
   ]
  },
  {
   "cell_type": "code",
   "execution_count": 172,
   "id": "2f436023",
   "metadata": {},
   "outputs": [
    {
     "data": {
      "text/plain": [
       "<AxesSubplot:xlabel='Item_Type', ylabel='count'>"
      ]
     },
     "execution_count": 172,
     "metadata": {},
     "output_type": "execute_result"
    },
    {
     "data": {
      "image/png": "[encoded data removed]",
      "text/plain": [
       "<Figure size 1296x360 with 1 Axes>"
      ]
     },
     "metadata": {},
     "output_type": "display_data"
    }
   ],
   "source": [
    "plt.figure(figsize=(18,5))\n",
    "sns.countplot(x='Item_Type',data=sales_train)"
   ]
  },
  {
   "cell_type": "code",
   "execution_count": 173,
   "id": "0decd01c",
   "metadata": {},
   "outputs": [
    {
     "data": {
      "text/plain": [
       "<AxesSubplot:xlabel='Item_Fat_Content', ylabel='count'>"
      ]
     },
     "execution_count": 173,
     "metadata": {},
     "output_type": "execute_result"
    },
    {
     "data": {
      "image/png": "[encoded data removed]",
      "text/plain": [
       "<Figure size 720x360 with 1 Axes>"
      ]
     },
     "metadata": {},
     "output_type": "display_data"
    }
   ],
   "source": [
    "plt.figure(figsize=(10,5))\n",
    "sns.countplot(x='Item_Fat_Content',data=sales_train)"
   ]
  },
  {
   "cell_type": "code",
   "execution_count": 174,
   "id": "4ea4debe",
   "metadata": {},
   "outputs": [
    {
     "data": {
      "text/plain": [
       "<AxesSubplot:xlabel='Outlet_Location_Type', ylabel='count'>"
      ]
     },
     "execution_count": 174,
     "metadata": {},
     "output_type": "execute_result"
    },
    {
     "data": {
      "image/png": "[encoded data removed]",
      "text/plain": [
       "<Figure size 720x360 with 1 Axes>"
      ]
     },
     "metadata": {},
     "output_type": "display_data"
    }
   ],
   "source": [
    "plt.figure(figsize=(10,5))\n",
    "sns.countplot(x='Outlet_Location_Type',data=sales_train)"
   ]
  },
  {
   "cell_type": "code",
   "execution_count": 175,
   "id": "cdc5af57",
   "metadata": {},
   "outputs": [
    {
     "data": {
      "text/plain": [
       "<AxesSubplot:xlabel='Outlet_Type', ylabel='count'>"
      ]
     },
     "execution_count": 175,
     "metadata": {},
     "output_type": "execute_result"
    },
    {
     "data": {
      "image/png": "[encoded data removed]",
      "text/plain": [
       "<Figure size 720x360 with 1 Axes>"
      ]
     },
     "metadata": {},
     "output_type": "display_data"
    }
   ],
   "source": [
    "plt.figure(figsize=(10,5))\n",
    "sns.countplot(x='Outlet_Type',data=sales_train)"
   ]
  },
  {
   "cell_type": "markdown",
   "id": "1882d436",
   "metadata": {},
   "source": [
    "### Now we will be see how the each Categorical independent feature is correlate with the target features which is `Item_Outlet_Sales`. Here we will be analysing the relation with the help of Bi-variate  Analysis.\n",
    "\n",
    "The Analysis will be done Scatter plot and the bar plot."
   ]
  },
  {
   "cell_type": "code",
   "execution_count": 176,
   "id": "66d9be30",
   "metadata": {},
   "outputs": [
    {
     "data": {
      "text/plain": [
       "Index(['Item_Identifier', 'Item_Weight', 'Item_Fat_Content', 'Item_Visibility',\n",
       "       'Item_Type', 'Item_MRP', 'Outlet_Identifier',\n",
       "       'Outlet_Establishment_Year', 'Outlet_Size', 'Outlet_Location_Type',\n",
       "       'Outlet_Type', 'Item_Outlet_Sales'],\n",
       "      dtype='object')"
      ]
     },
     "execution_count": 176,
     "metadata": {},
     "output_type": "execute_result"
    }
   ],
   "source": [
    "sales_train.columns"
   ]
  },
  {
   "cell_type": "code",
   "execution_count": 177,
   "id": "73b96351",
   "metadata": {},
   "outputs": [
    {
     "data": {
      "text/plain": [
       "<AxesSubplot:xlabel='Item_Fat_Content'>"
      ]
     },
     "execution_count": 177,
     "metadata": {},
     "output_type": "execute_result"
    },
    {
     "data": {
      "image/png": "[encoded data removed]",
      "text/plain": [
       "<Figure size 432x288 with 1 Axes>"
      ]
     },
     "metadata": {},
     "output_type": "display_data"
    }
   ],
   "source": [
    "sales_train.groupby('Item_Fat_Content')['Item_Outlet_Sales'].mean().plot.bar()"
   ]
  },
  {
   "cell_type": "code",
   "execution_count": 178,
   "id": "28705e03",
   "metadata": {},
   "outputs": [
    {
     "data": {
      "text/plain": [
       "<matplotlib.collections.PathCollection at 0x250212eed60>"
      ]
     },
     "execution_count": 178,
     "metadata": {},
     "output_type": "execute_result"
    },
    {
     "data": {
      "image/png": "[encoded data removed]",
      "text/plain": [
       "<Figure size 432x288 with 1 Axes>"
      ]
     },
     "metadata": {},
     "output_type": "display_data"
    }
   ],
   "source": [
    "plt.scatter(x = 'Item_Fat_Content', y = 'Item_Outlet_Sales', data = sales_train)"
   ]
  },
  {
   "cell_type": "code",
   "execution_count": 179,
   "id": "612e9608",
   "metadata": {},
   "outputs": [
    {
     "data": {
      "text/plain": [
       "<AxesSubplot:xlabel='Item_Type'>"
      ]
     },
     "execution_count": 179,
     "metadata": {},
     "output_type": "execute_result"
    },
    {
     "data": {
      "image/png": "[encoded data removed]",
      "text/plain": [
       "<Figure size 1296x360 with 1 Axes>"
      ]
     },
     "metadata": {},
     "output_type": "display_data"
    }
   ],
   "source": [
    "plt.figure(figsize=(18,5))\n",
    "sales_train.groupby('Item_Type')['Item_Outlet_Sales'].mean().plot.bar()"
   ]
  },
  {
   "cell_type": "code",
   "execution_count": 180,
   "id": "7a403a66",
   "metadata": {},
   "outputs": [
    {
     "data": {
      "text/plain": [
       "<matplotlib.collections.PathCollection at 0x25021256100>"
      ]
     },
     "execution_count": 180,
     "metadata": {},
     "output_type": "execute_result"
    },
    {
     "data": {
      "image/png": "[encoded data removed]",
      "text/plain": [
       "<Figure size 1296x360 with 1 Axes>"
      ]
     },
     "metadata": {},
     "output_type": "display_data"
    }
   ],
   "source": [
    "plt.figure(figsize=(18,5))\n",
    "plt.scatter(x = 'Item_Type', y = 'Item_Outlet_Sales', data = sales_train)"
   ]
  },
  {
   "cell_type": "code",
   "execution_count": 181,
   "id": "b90a3afb",
   "metadata": {},
   "outputs": [
    {
     "data": {
      "text/plain": [
       "<AxesSubplot:xlabel='Outlet_Identifier'>"
      ]
     },
     "execution_count": 181,
     "metadata": {},
     "output_type": "execute_result"
    },
    {
     "data": {
      "image/png": "[encoded data removed]",
      "text/plain": [
       "<Figure size 864x360 with 1 Axes>"
      ]
     },
     "metadata": {},
     "output_type": "display_data"
    }
   ],
   "source": [
    "plt.figure(figsize=(12,5))\n",
    "sales_train.groupby('Outlet_Identifier')['Item_Outlet_Sales'].mean().plot.bar()"
   ]
  },
  {
   "cell_type": "code",
   "execution_count": 182,
   "id": "40b9dd6a",
   "metadata": {},
   "outputs": [
    {
     "data": {
      "text/plain": [
       "<matplotlib.collections.PathCollection at 0x2501f38cca0>"
      ]
     },
     "execution_count": 182,
     "metadata": {},
     "output_type": "execute_result"
    },
    {
     "data": {
      "image/png": "[encoded data removed]",
      "text/plain": [
       "<Figure size 864x360 with 1 Axes>"
      ]
     },
     "metadata": {},
     "output_type": "display_data"
    }
   ],
   "source": [
    "plt.figure(figsize=(12,5))\n",
    "plt.scatter(x = 'Outlet_Identifier', y = 'Item_Outlet_Sales', data = sales_train)"
   ]
  },
  {
   "cell_type": "code",
   "execution_count": 183,
   "id": "15bc4f8e",
   "metadata": {},
   "outputs": [
    {
     "data": {
      "text/plain": [
       "<AxesSubplot:xlabel='Outlet_Size'>"
      ]
     },
     "execution_count": 183,
     "metadata": {},
     "output_type": "execute_result"
    },
    {
     "data": {
      "image/png": "[encoded data removed]",
      "text/plain": [
       "<Figure size 576x360 with 1 Axes>"
      ]
     },
     "metadata": {},
     "output_type": "display_data"
    }
   ],
   "source": [
    "plt.figure(figsize=(8,5))\n",
    "sales_train.groupby('Outlet_Size')['Item_Outlet_Sales'].mean().plot.bar()"
   ]
  },
  {
   "cell_type": "markdown",
   "id": "b9513140",
   "metadata": {},
   "source": [
    "### Numerical Independent Variable vs Target Variable"
   ]
  },
  {
   "cell_type": "code",
   "execution_count": 184,
   "id": "f4033810",
   "metadata": {},
   "outputs": [
    {
     "data": {
      "text/plain": [
       "<matplotlib.collections.PathCollection at 0x2502093d9a0>"
      ]
     },
     "execution_count": 184,
     "metadata": {},
     "output_type": "execute_result"
    },
    {
     "data": {
      "image/png": "[encoded data removed]",
      "text/plain": [
       "<Figure size 1296x360 with 1 Axes>"
      ]
     },
     "metadata": {},
     "output_type": "display_data"
    }
   ],
   "source": [
    "plt.figure(figsize=(18,5))\n",
    "plt.scatter(x = 'Item_Weight', y = 'Item_Outlet_Sales', data = sales_train)"
   ]
  },
  {
   "cell_type": "markdown",
   "id": "a8f7e0a6",
   "metadata": {},
   "source": [
    " The Understanding for the correlation of the feature variable with target one would be better if we will use the metrics, using  heatmap."
   ]
  },
  {
   "cell_type": "code",
   "execution_count": 185,
   "id": "59986191",
   "metadata": {},
   "outputs": [
    {
     "data": {
      "text/html": [
       "<div>\n",
       "<style scoped>\n",
       "    .dataframe tbody tr th:only-of-type {\n",
       "        vertical-align: middle;\n",
       "    }\n",
       "\n",
       "    .dataframe tbody tr th {\n",
       "        vertical-align: top;\n",
       "    }\n",
       "\n",
       "    .dataframe thead th {\n",
       "        text-align: right;\n",
       "    }\n",
       "</style>\n",
       "<table border=\"1\" class=\"dataframe\">\n",
       "  <thead>\n",
       "    <tr style=\"text-align: right;\">\n",
       "      <th></th>\n",
       "      <th>Item_Weight</th>\n",
       "      <th>Item_Visibility</th>\n",
       "      <th>Item_MRP</th>\n",
       "      <th>Outlet_Establishment_Year</th>\n",
       "      <th>Item_Outlet_Sales</th>\n",
       "    </tr>\n",
       "  </thead>\n",
       "  <tbody>\n",
       "    <tr>\n",
       "      <th>Item_Weight</th>\n",
       "      <td>1.000000</td>\n",
       "      <td>-0.012049</td>\n",
       "      <td>0.024756</td>\n",
       "      <td>-0.008301</td>\n",
       "      <td>0.011550</td>\n",
       "    </tr>\n",
       "    <tr>\n",
       "      <th>Item_Visibility</th>\n",
       "      <td>-0.012049</td>\n",
       "      <td>1.000000</td>\n",
       "      <td>-0.001315</td>\n",
       "      <td>-0.074834</td>\n",
       "      <td>-0.128625</td>\n",
       "    </tr>\n",
       "    <tr>\n",
       "      <th>Item_MRP</th>\n",
       "      <td>0.024756</td>\n",
       "      <td>-0.001315</td>\n",
       "      <td>1.000000</td>\n",
       "      <td>0.005020</td>\n",
       "      <td>0.567574</td>\n",
       "    </tr>\n",
       "    <tr>\n",
       "      <th>Outlet_Establishment_Year</th>\n",
       "      <td>-0.008301</td>\n",
       "      <td>-0.074834</td>\n",
       "      <td>0.005020</td>\n",
       "      <td>1.000000</td>\n",
       "      <td>-0.049135</td>\n",
       "    </tr>\n",
       "    <tr>\n",
       "      <th>Item_Outlet_Sales</th>\n",
       "      <td>0.011550</td>\n",
       "      <td>-0.128625</td>\n",
       "      <td>0.567574</td>\n",
       "      <td>-0.049135</td>\n",
       "      <td>1.000000</td>\n",
       "    </tr>\n",
       "  </tbody>\n",
       "</table>\n",
       "</div>"
      ],
      "text/plain": [
       "                           Item_Weight  Item_Visibility  Item_MRP  \\\n",
       "Item_Weight                   1.000000        -0.012049  0.024756   \n",
       "Item_Visibility              -0.012049         1.000000 -0.001315   \n",
       "Item_MRP                      0.024756        -0.001315  1.000000   \n",
       "Outlet_Establishment_Year    -0.008301        -0.074834  0.005020   \n",
       "Item_Outlet_Sales             0.011550        -0.128625  0.567574   \n",
       "\n",
       "                           Outlet_Establishment_Year  Item_Outlet_Sales  \n",
       "Item_Weight                                -0.008301           0.011550  \n",
       "Item_Visibility                            -0.074834          -0.128625  \n",
       "Item_MRP                                    0.005020           0.567574  \n",
       "Outlet_Establishment_Year                   1.000000          -0.049135  \n",
       "Item_Outlet_Sales                          -0.049135           1.000000  "
      ]
     },
     "execution_count": 185,
     "metadata": {},
     "output_type": "execute_result"
    }
   ],
   "source": [
    "sales_train.corr()"
   ]
  },
  {
   "cell_type": "code",
   "execution_count": 186,
   "id": "2fffcf17",
   "metadata": {},
   "outputs": [
    {
     "data": {
      "text/plain": [
       "<AxesSubplot:>"
      ]
     },
     "execution_count": 186,
     "metadata": {},
     "output_type": "execute_result"
    },
    {
     "data": {
      "image/png": "[encoded data removed]",
      "text/plain": [
       "<Figure size 720x360 with 2 Axes>"
      ]
     },
     "metadata": {},
     "output_type": "display_data"
    }
   ],
   "source": [
    "# visualizing the correlation of the feature with target\n",
    "plt.figure(figsize=(10,5))\n",
    "sns.heatmap(sales_train.corr())"
   ]
  },
  {
   "cell_type": "code",
   "execution_count": 187,
   "id": "22846f4b",
   "metadata": {},
   "outputs": [
    {
     "data": {
      "text/plain": [
       "<AxesSubplot:xlabel='Item_MRP', ylabel='Item_Outlet_Sales'>"
      ]
     },
     "execution_count": 187,
     "metadata": {},
     "output_type": "execute_result"
    },
    {
     "data": {
      "image/png": "[encoded data removed]",
      "text/plain": [
       "<Figure size 1296x360 with 1 Axes>"
      ]
     },
     "metadata": {},
     "output_type": "display_data"
    }
   ],
   "source": [
    "plt.figure(figsize=(18,5))\n",
    "sns.regplot(x='Item_MRP',y='Item_Outlet_Sales',data=sales_train)"
   ]
  },
  {
   "cell_type": "markdown",
   "id": "10ff9d69",
   "metadata": {},
   "source": [
    " With both the visualization we understand that the higher the `Item_MRP` the higher the `Item_Outlet_Sales`. "
   ]
  },
  {
   "cell_type": "markdown",
   "id": "99a2ac3e",
   "metadata": {},
   "source": [
    "### Converting the Categorical variables in Numerical values"
   ]
  },
  {
   "cell_type": "code",
   "execution_count": 188,
   "id": "fd43af6f",
   "metadata": {},
   "outputs": [
    {
     "data": {
      "text/plain": [
       "Item_Identifier               object\n",
       "Item_Weight                  float64\n",
       "Item_Fat_Content              object\n",
       "Item_Visibility              float64\n",
       "Item_Type                     object\n",
       "Item_MRP                     float64\n",
       "Outlet_Identifier             object\n",
       "Outlet_Establishment_Year      int64\n",
       "Outlet_Size                   object\n",
       "Outlet_Location_Type          object\n",
       "Outlet_Type                   object\n",
       "Item_Outlet_Sales            float64\n",
       "dtype: object"
      ]
     },
     "execution_count": 188,
     "metadata": {},
     "output_type": "execute_result"
    }
   ],
   "source": [
    "sales_train.dtypes"
   ]
  },
  {
   "cell_type": "code",
   "execution_count": 189,
   "id": "b0954d3c",
   "metadata": {},
   "outputs": [
    {
     "data": {
      "text/plain": [
       "array(['FDA15', 'DRC01', 'FDN15', ..., 'NCF55', 'NCW30', 'NCW05'],\n",
       "      dtype=object)"
      ]
     },
     "execution_count": 189,
     "metadata": {},
     "output_type": "execute_result"
    }
   ],
   "source": [
    "sales_train[\"Item_Identifier\"].unique()"
   ]
  },
  {
   "cell_type": "code",
   "execution_count": 190,
   "id": "3c410e34",
   "metadata": {},
   "outputs": [
    {
     "data": {
      "text/plain": [
       "array(['FDA15', 'DRC01', 'FDN15', ..., 'NCF55', 'NCW30', 'NCW05'],\n",
       "      dtype=object)"
      ]
     },
     "execution_count": 190,
     "metadata": {},
     "output_type": "execute_result"
    }
   ],
   "source": [
    "# Item_Identifier\n",
    "sales_train_1 = pd.get_dummies(sales_train['Outlet_Identifier'])\n",
    "sales_train = pd.concat([sales_train, sales_train_1], axis=1)\n",
    "sales_train[\"Item_Identifier\"].unique()"
   ]
  },
  {
   "cell_type": "code",
   "execution_count": 191,
   "id": "6c147bcd",
   "metadata": {},
   "outputs": [
    {
     "data": {
      "text/plain": [
       "array(['Low Fat', 'Regular', 'low fat', 'LF', 'reg'], dtype=object)"
      ]
     },
     "execution_count": 191,
     "metadata": {},
     "output_type": "execute_result"
    }
   ],
   "source": [
    "sales_train[\"Item_Fat_Content\"].unique()"
   ]
  },
  {
   "cell_type": "code",
   "execution_count": 192,
   "id": "e4e23583",
   "metadata": {},
   "outputs": [],
   "source": [
    "def fun(x):\n",
    "  if x=='Low_Fat' or x=='Regular' or x=='reg':\n",
    "    return(0)\n",
    "  else:\n",
    "    return(1)\n",
    "\n",
    "sales_train['Item_Fat_Content']=sales_train['Item_Fat_Content'].apply(fun)"
   ]
  },
  {
   "cell_type": "code",
   "execution_count": 193,
   "id": "60f51122",
   "metadata": {},
   "outputs": [
    {
     "data": {
      "text/plain": [
       "0       1\n",
       "1       0\n",
       "2       1\n",
       "3       0\n",
       "4       1\n",
       "       ..\n",
       "8518    1\n",
       "8519    0\n",
       "8520    1\n",
       "8521    0\n",
       "8522    1\n",
       "Name: Item_Fat_Content, Length: 8523, dtype: int64"
      ]
     },
     "execution_count": 193,
     "metadata": {},
     "output_type": "execute_result"
    }
   ],
   "source": [
    "sales_train[\"Item_Fat_Content\"]"
   ]
  },
  {
   "cell_type": "code",
   "execution_count": 194,
   "id": "0abfbc61",
   "metadata": {},
   "outputs": [
    {
     "data": {
      "text/plain": [
       "0       0\n",
       "1       0\n",
       "2       0\n",
       "3       0\n",
       "4       1\n",
       "       ..\n",
       "8518    1\n",
       "8519    0\n",
       "8520    2\n",
       "8521    0\n",
       "8522    2\n",
       "Name: Outlet_Size, Length: 8523, dtype: int64"
      ]
     },
     "execution_count": 194,
     "metadata": {},
     "output_type": "execute_result"
    }
   ],
   "source": [
    "# Now the Size section\n",
    "def fun1(x):\n",
    "  if x=='Medium':\n",
    "    return(0)\n",
    "  elif x=='High':\n",
    "    return(1)\n",
    "  else:\n",
    "    return(2)\n",
    "\n",
    "sales_train['Outlet_Size'] = sales_train['Outlet_Size'].apply(fun1)\n",
    "sales_train['Outlet_Size']"
   ]
  },
  {
   "cell_type": "code",
   "execution_count": 195,
   "id": "5a4bb3af",
   "metadata": {},
   "outputs": [
    {
     "data": {
      "text/plain": [
       "0       0\n",
       "1       2\n",
       "2       0\n",
       "3       2\n",
       "4       2\n",
       "       ..\n",
       "8518    2\n",
       "8519    1\n",
       "8520    1\n",
       "8521    2\n",
       "8522    0\n",
       "Name: Outlet_Location_Type, Length: 8523, dtype: int64"
      ]
     },
     "execution_count": 195,
     "metadata": {},
     "output_type": "execute_result"
    }
   ],
   "source": [
    "def fun2(x):\n",
    "  if x=='Tier 1':\n",
    "    return(0)\n",
    "  elif x=='Tier 2':\n",
    "    return(1)\n",
    "  else:\n",
    "    return(2)\n",
    "\n",
    "sales_train['Outlet_Location_Type'] = sales_train['Outlet_Location_Type'].apply(fun2)\n",
    "sales_train['Outlet_Location_Type']"
   ]
  },
  {
   "cell_type": "code",
   "execution_count": 196,
   "id": "fe44fe4d",
   "metadata": {},
   "outputs": [
    {
     "data": {
      "text/plain": [
       "0       0\n",
       "1       1\n",
       "2       0\n",
       "3       3\n",
       "4       0\n",
       "       ..\n",
       "8518    0\n",
       "8519    0\n",
       "8520    0\n",
       "8521    1\n",
       "8522    0\n",
       "Name: Outlet_Type, Length: 8523, dtype: int64"
      ]
     },
     "execution_count": 196,
     "metadata": {},
     "output_type": "execute_result"
    }
   ],
   "source": [
    "#Outlet Type\n",
    "def fun3(x):\n",
    "  if x=='Supermarket Type1':\n",
    "    return(0)\n",
    "  elif x=='Supermarket Type2':\n",
    "    return(1)\n",
    "  elif x=='Supermarket Type3':\n",
    "    return(2)\n",
    "  else:\n",
    "    return(3)\n",
    "sales_train['Outlet_Type'] = sales_train['Outlet_Type'].apply(fun3)\n",
    "sales_train['Outlet_Type']"
   ]
  },
  {
   "cell_type": "code",
   "execution_count": 211,
   "id": "c8b989ec",
   "metadata": {},
   "outputs": [
    {
     "data": {
      "text/html": [
       "<div>\n",
       "<style scoped>\n",
       "    .dataframe tbody tr th:only-of-type {\n",
       "        vertical-align: middle;\n",
       "    }\n",
       "\n",
       "    .dataframe tbody tr th {\n",
       "        vertical-align: top;\n",
       "    }\n",
       "\n",
       "    .dataframe thead th {\n",
       "        text-align: right;\n",
       "    }\n",
       "</style>\n",
       "<table border=\"1\" class=\"dataframe\">\n",
       "  <thead>\n",
       "    <tr style=\"text-align: right;\">\n",
       "      <th></th>\n",
       "      <th>Item_Identifier</th>\n",
       "      <th>Item_Weight</th>\n",
       "      <th>Item_Fat_Content</th>\n",
       "      <th>Item_Visibility</th>\n",
       "      <th>Item_Type</th>\n",
       "      <th>Item_MRP</th>\n",
       "      <th>Outlet_Identifier</th>\n",
       "      <th>Outlet_Establishment_Year</th>\n",
       "      <th>Outlet_Size</th>\n",
       "      <th>Outlet_Location_Type</th>\n",
       "      <th>...</th>\n",
       "      <th>OUT010</th>\n",
       "      <th>OUT013</th>\n",
       "      <th>OUT017</th>\n",
       "      <th>OUT018</th>\n",
       "      <th>OUT019</th>\n",
       "      <th>OUT027</th>\n",
       "      <th>OUT035</th>\n",
       "      <th>OUT045</th>\n",
       "      <th>OUT046</th>\n",
       "      <th>OUT049</th>\n",
       "    </tr>\n",
       "  </thead>\n",
       "  <tbody>\n",
       "    <tr>\n",
       "      <th>0</th>\n",
       "      <td>FDA15</td>\n",
       "      <td>9</td>\n",
       "      <td>1</td>\n",
       "      <td>0</td>\n",
       "      <td>Dairy</td>\n",
       "      <td>249</td>\n",
       "      <td>OUT049</td>\n",
       "      <td>1999</td>\n",
       "      <td>0</td>\n",
       "      <td>0</td>\n",
       "      <td>...</td>\n",
       "      <td>0</td>\n",
       "      <td>0</td>\n",
       "      <td>0</td>\n",
       "      <td>0</td>\n",
       "      <td>0</td>\n",
       "      <td>0</td>\n",
       "      <td>0</td>\n",
       "      <td>0</td>\n",
       "      <td>0</td>\n",
       "      <td>1</td>\n",
       "    </tr>\n",
       "    <tr>\n",
       "      <th>1</th>\n",
       "      <td>DRC01</td>\n",
       "      <td>5</td>\n",
       "      <td>0</td>\n",
       "      <td>0</td>\n",
       "      <td>Soft Drinks</td>\n",
       "      <td>48</td>\n",
       "      <td>OUT018</td>\n",
       "      <td>2009</td>\n",
       "      <td>0</td>\n",
       "      <td>2</td>\n",
       "      <td>...</td>\n",
       "      <td>0</td>\n",
       "      <td>0</td>\n",
       "      <td>0</td>\n",
       "      <td>1</td>\n",
       "      <td>0</td>\n",
       "      <td>0</td>\n",
       "      <td>0</td>\n",
       "      <td>0</td>\n",
       "      <td>0</td>\n",
       "      <td>0</td>\n",
       "    </tr>\n",
       "    <tr>\n",
       "      <th>2</th>\n",
       "      <td>FDN15</td>\n",
       "      <td>17</td>\n",
       "      <td>1</td>\n",
       "      <td>0</td>\n",
       "      <td>Meat</td>\n",
       "      <td>141</td>\n",
       "      <td>OUT049</td>\n",
       "      <td>1999</td>\n",
       "      <td>0</td>\n",
       "      <td>0</td>\n",
       "      <td>...</td>\n",
       "      <td>0</td>\n",
       "      <td>0</td>\n",
       "      <td>0</td>\n",
       "      <td>0</td>\n",
       "      <td>0</td>\n",
       "      <td>0</td>\n",
       "      <td>0</td>\n",
       "      <td>0</td>\n",
       "      <td>0</td>\n",
       "      <td>1</td>\n",
       "    </tr>\n",
       "    <tr>\n",
       "      <th>3</th>\n",
       "      <td>FDX07</td>\n",
       "      <td>19</td>\n",
       "      <td>0</td>\n",
       "      <td>0</td>\n",
       "      <td>Fruits and Vegetables</td>\n",
       "      <td>182</td>\n",
       "      <td>OUT010</td>\n",
       "      <td>1998</td>\n",
       "      <td>0</td>\n",
       "      <td>2</td>\n",
       "      <td>...</td>\n",
       "      <td>1</td>\n",
       "      <td>0</td>\n",
       "      <td>0</td>\n",
       "      <td>0</td>\n",
       "      <td>0</td>\n",
       "      <td>0</td>\n",
       "      <td>0</td>\n",
       "      <td>0</td>\n",
       "      <td>0</td>\n",
       "      <td>0</td>\n",
       "    </tr>\n",
       "    <tr>\n",
       "      <th>4</th>\n",
       "      <td>NCD19</td>\n",
       "      <td>8</td>\n",
       "      <td>1</td>\n",
       "      <td>0</td>\n",
       "      <td>Household</td>\n",
       "      <td>53</td>\n",
       "      <td>OUT013</td>\n",
       "      <td>1987</td>\n",
       "      <td>1</td>\n",
       "      <td>2</td>\n",
       "      <td>...</td>\n",
       "      <td>0</td>\n",
       "      <td>1</td>\n",
       "      <td>0</td>\n",
       "      <td>0</td>\n",
       "      <td>0</td>\n",
       "      <td>0</td>\n",
       "      <td>0</td>\n",
       "      <td>0</td>\n",
       "      <td>0</td>\n",
       "      <td>0</td>\n",
       "    </tr>\n",
       "  </tbody>\n",
       "</table>\n",
       "<p>5 rows × 22 columns</p>\n",
       "</div>"
      ],
      "text/plain": [
       "  Item_Identifier  Item_Weight  Item_Fat_Content  Item_Visibility  \\\n",
       "0           FDA15            9                 1                0   \n",
       "1           DRC01            5                 0                0   \n",
       "2           FDN15           17                 1                0   \n",
       "3           FDX07           19                 0                0   \n",
       "4           NCD19            8                 1                0   \n",
       "\n",
       "               Item_Type  Item_MRP Outlet_Identifier  \\\n",
       "0                  Dairy       249            OUT049   \n",
       "1            Soft Drinks        48            OUT018   \n",
       "2                   Meat       141            OUT049   \n",
       "3  Fruits and Vegetables       182            OUT010   \n",
       "4              Household        53            OUT013   \n",
       "\n",
       "   Outlet_Establishment_Year  Outlet_Size  Outlet_Location_Type  ...  OUT010  \\\n",
       "0                       1999            0                     0  ...       0   \n",
       "1                       2009            0                     2  ...       0   \n",
       "2                       1999            0                     0  ...       0   \n",
       "3                       1998            0                     2  ...       1   \n",
       "4                       1987            1                     2  ...       0   \n",
       "\n",
       "   OUT013  OUT017  OUT018  OUT019  OUT027  OUT035  OUT045  OUT046  OUT049  \n",
       "0       0       0       0       0       0       0       0       0       1  \n",
       "1       0       0       1       0       0       0       0       0       0  \n",
       "2       0       0       0       0       0       0       0       0       1  \n",
       "3       0       0       0       0       0       0       0       0       0  \n",
       "4       1       0       0       0       0       0       0       0       0  \n",
       "\n",
       "[5 rows x 22 columns]"
      ]
     },
     "execution_count": 211,
     "metadata": {},
     "output_type": "execute_result"
    }
   ],
   "source": [
    "sales_train.head()"
   ]
  },
  {
   "cell_type": "code",
   "execution_count": 204,
   "id": "444a4984",
   "metadata": {},
   "outputs": [],
   "source": [
    "# Now Float to integer\n",
    "\n",
    "sales_train[\"Item_Weight\"] = sales_train[\"Item_Weight\"].astype(int)\n",
    "sales_train[\"Item_Visibility\"] = sales_train[\"Item_Visibility\"].astype(int)\n",
    "sales_train[\"Item_MRP\"] = sales_train[\"Item_MRP\"].astype(int)\n",
    "sales_train[\"Item_Outlet_Sales\"] = sales_train[\"Item_Outlet_Sales\"].astype(int)"
   ]
  },
  {
   "cell_type": "code",
   "execution_count": 205,
   "id": "8519fc8a",
   "metadata": {},
   "outputs": [
    {
     "data": {
      "text/plain": [
       "Item_Identifier              object\n",
       "Item_Weight                   int32\n",
       "Item_Fat_Content              int64\n",
       "Item_Visibility               int32\n",
       "Item_Type                    object\n",
       "Item_MRP                      int32\n",
       "Outlet_Identifier            object\n",
       "Outlet_Establishment_Year     int64\n",
       "Outlet_Size                   int64\n",
       "Outlet_Location_Type          int64\n",
       "Outlet_Type                   int64\n",
       "Item_Outlet_Sales             int32\n",
       "OUT010                        uint8\n",
       "OUT013                        uint8\n",
       "OUT017                        uint8\n",
       "OUT018                        uint8\n",
       "OUT019                        uint8\n",
       "OUT027                        uint8\n",
       "OUT035                        uint8\n",
       "OUT045                        uint8\n",
       "OUT046                        uint8\n",
       "OUT049                        uint8\n",
       "dtype: object"
      ]
     },
     "execution_count": 205,
     "metadata": {},
     "output_type": "execute_result"
    }
   ],
   "source": [
    "sales_train.dtypes"
   ]
  },
  {
   "cell_type": "markdown",
   "id": "9dd34794",
   "metadata": {},
   "source": [
    "Now we we will be droping the feature which has no correlation with the target feature such as `Item_Identifier`, `Item_Type` , `Outlet_Establishment_Year`.\n",
    "The Target feature will be `Item_Outlet_Sales`."
   ]
  },
  {
   "cell_type": "markdown",
   "id": "13369f5d",
   "metadata": {},
   "source": [
    "## LinearRegression"
   ]
  },
  {
   "cell_type": "code",
   "execution_count": 222,
   "id": "d53b2dfb",
   "metadata": {},
   "outputs": [
    {
     "name": "stdout",
     "output_type": "stream",
     "text": [
      "LinearRegression Model accuracy: 58.13%\n"
     ]
    }
   ],
   "source": [
    "# Import the linearSVC estimator class\n",
    "from sklearn.linear_model import LinearRegression \n",
    "from sklearn.model_selection import train_test_split, cross_val_score \n",
    "\n",
    "# Setup the random seed\n",
    "np.random.seed(42)\n",
    "\n",
    "# Creating dataset on x and y\n",
    "x = sales_train.drop([\"Item_Identifier\", \"Item_Type\", \"Outlet_Establishment_Year\", \"Outlet_Identifier\", \"Item_Outlet_Sales\"], axis=1)\n",
    "y = sales_train[\"Item_Outlet_Sales\"]\n",
    "\n",
    "#Split the data \n",
    "x_train, x_test, y_train, y_test = train_test_split(x, y, test_size=0.2)\n",
    "\n",
    "lrm = LinearRegression()\n",
    "lrm.fit(x_train, y_train)\n",
    "\n",
    "# Evaluate the LinearRegression\n",
    "lrm_score = lrm.score(x_test, y_test)\n",
    "np.mean(lrm_score)\n",
    "print(f\"LinearRegression Model accuracy: {np.mean(lrm_score)*100:.2f}%\")"
   ]
  },
  {
   "cell_type": "code",
   "execution_count": 248,
   "id": "d925c58e",
   "metadata": {
    "scrolled": true
   },
   "outputs": [
    {
     "name": "stdout",
     "output_type": "stream",
     "text": [
      "Single score 0.5813205293585394\n",
      "Cross score 0.5615012242066324\n"
     ]
    }
   ],
   "source": [
    "# Compairing the single train score and multiple train score\n",
    "np.random.seed(42)\n",
    "lrm_single_score = lrm.score(x_test,y_test)\n",
    "lrm_cross_val_score = np.mean(cross_val_score(lrm,x,y, cv=5))\n",
    "print(\"Single score\",lrm_single_score)\n",
    "print(\"Cross score\",lrm_cross_val_score)"
   ]
  },
  {
   "cell_type": "code",
   "execution_count": 227,
   "id": "3d4b6c23",
   "metadata": {},
   "outputs": [
    {
     "name": "stdout",
     "output_type": "stream",
     "text": [
      "MEAN SQUARED ERROR(MSE) 1137958.0787850397\n",
      "MEAN ABSOLUTE ERROR(MAE) 790.3286988964805\n",
      "ROOT MEAN SQUARED ERROR(RMSE) 1066.7511794158186\n",
      "SCORE 0.5813205293585394\n"
     ]
    }
   ],
   "source": [
    "# Now making prediction \n",
    "from sklearn.metrics import mean_squared_error, mean_absolute_error, SCORERS\n",
    "predicted=lrm.predict(x_test)\n",
    "print(\"MEAN SQUARED ERROR(MSE)\",mean_squared_error(y_test,predicted))\n",
    "print(\"MEAN ABSOLUTE ERROR(MAE)\",mean_absolute_error(y_test,predicted))\n",
    "print(\"ROOT MEAN SQUARED ERROR(RMSE)\",np.sqrt(mean_squared_error(y_test,predicted)))\n",
    "print(\"SCORE\",lrm.score(x_test,y_test))"
   ]
  },
  {
   "cell_type": "code",
   "execution_count": 228,
   "id": "d088b00e",
   "metadata": {},
   "outputs": [
    {
     "data": {
      "text/html": [
       "<div>\n",
       "<style scoped>\n",
       "    .dataframe tbody tr th:only-of-type {\n",
       "        vertical-align: middle;\n",
       "    }\n",
       "\n",
       "    .dataframe tbody tr th {\n",
       "        vertical-align: top;\n",
       "    }\n",
       "\n",
       "    .dataframe thead th {\n",
       "        text-align: right;\n",
       "    }\n",
       "</style>\n",
       "<table border=\"1\" class=\"dataframe\">\n",
       "  <thead>\n",
       "    <tr style=\"text-align: right;\">\n",
       "      <th></th>\n",
       "      <th>actual values</th>\n",
       "      <th>prediction values</th>\n",
       "      <th>difference</th>\n",
       "    </tr>\n",
       "  </thead>\n",
       "  <tbody>\n",
       "    <tr>\n",
       "      <th>7503</th>\n",
       "      <td>1743</td>\n",
       "      <td>1353.004171</td>\n",
       "      <td>-389.995829</td>\n",
       "    </tr>\n",
       "    <tr>\n",
       "      <th>2957</th>\n",
       "      <td>356</td>\n",
       "      <td>690.857176</td>\n",
       "      <td>334.857176</td>\n",
       "    </tr>\n",
       "    <tr>\n",
       "      <th>7031</th>\n",
       "      <td>377</td>\n",
       "      <td>853.373453</td>\n",
       "      <td>476.373453</td>\n",
       "    </tr>\n",
       "    <tr>\n",
       "      <th>1084</th>\n",
       "      <td>5778</td>\n",
       "      <td>4251.245447</td>\n",
       "      <td>-1526.754553</td>\n",
       "    </tr>\n",
       "    <tr>\n",
       "      <th>856</th>\n",
       "      <td>2356</td>\n",
       "      <td>3324.589344</td>\n",
       "      <td>968.589344</td>\n",
       "    </tr>\n",
       "    <tr>\n",
       "      <th>4304</th>\n",
       "      <td>865</td>\n",
       "      <td>655.280941</td>\n",
       "      <td>-209.719059</td>\n",
       "    </tr>\n",
       "    <tr>\n",
       "      <th>2132</th>\n",
       "      <td>4613</td>\n",
       "      <td>4764.572836</td>\n",
       "      <td>151.572836</td>\n",
       "    </tr>\n",
       "    <tr>\n",
       "      <th>1385</th>\n",
       "      <td>2410</td>\n",
       "      <td>2044.846980</td>\n",
       "      <td>-365.153020</td>\n",
       "    </tr>\n",
       "    <tr>\n",
       "      <th>5239</th>\n",
       "      <td>1948</td>\n",
       "      <td>1377.889432</td>\n",
       "      <td>-570.110568</td>\n",
       "    </tr>\n",
       "    <tr>\n",
       "      <th>6516</th>\n",
       "      <td>1937</td>\n",
       "      <td>2780.594207</td>\n",
       "      <td>843.594207</td>\n",
       "    </tr>\n",
       "  </tbody>\n",
       "</table>\n",
       "</div>"
      ],
      "text/plain": [
       "      actual values  prediction values   difference\n",
       "7503           1743        1353.004171  -389.995829\n",
       "2957            356         690.857176   334.857176\n",
       "7031            377         853.373453   476.373453\n",
       "1084           5778        4251.245447 -1526.754553\n",
       "856            2356        3324.589344   968.589344\n",
       "4304            865         655.280941  -209.719059\n",
       "2132           4613        4764.572836   151.572836\n",
       "1385           2410        2044.846980  -365.153020\n",
       "5239           1948        1377.889432  -570.110568\n",
       "6516           1937        2780.594207   843.594207"
      ]
     },
     "execution_count": 228,
     "metadata": {},
     "output_type": "execute_result"
    }
   ],
   "source": [
    "# In tabular way to represent\n",
    "df = pd.DataFrame(data={\"actual values\": y_test,\n",
    "                        \"prediction values\": predicted})\n",
    "\n",
    "df[\"difference\"] = df[\"prediction values\"] - df[\"actual values\"]\n",
    "df.head(10)"
   ]
  },
  {
   "cell_type": "markdown",
   "id": "09518beb",
   "metadata": {},
   "source": [
    "## RandomForest Regressor and classifier"
   ]
  },
  {
   "cell_type": "markdown",
   "id": "a373d4bc",
   "metadata": {},
   "source": [
    " ` Classifier cannot handle this much large dataset`"
   ]
  },
  {
   "cell_type": "code",
   "execution_count": 236,
   "id": "e7c25c4c",
   "metadata": {},
   "outputs": [],
   "source": [
    "from sklearn.metrics import accuracy_score, precision_score, recall_score, f1_score\n",
    "from sklearn.ensemble import RandomForestClassifier\n",
    "from sklearn.model_selection import train_test_split\n",
    "\n",
    "np.random.seed(42)\n",
    "#create x and y\n",
    "x = sales_train.drop([\"Item_Identifier\", \"Item_Type\", \"Outlet_Establishment_Year\", \"Outlet_Identifier\", \"Item_Outlet_Sales\"], axis=1)\n",
    "y = sales_train[\"Item_Outlet_Sales\"]\n",
    "#Splitting the data\n",
    "x_train, x_test, y_train, y_test = train_test_split(x, y, test_size=0.2)\n",
    "#Making model\n",
    "clf = RandomForestClassifier(n_estimators=100)\n",
    "#fitting the model\n",
    "#clf.fit(x_train, y_train)\n",
    "#Making prediction\n",
    "#y_pred = clf.predict(x_test)\n",
    "#Evaluate model using evalustion function\n",
    "#print(\"Classifier metrics on test set\")\n",
    "#print(f\"Accuracy : {accuracy_score(y_test, y_pred)*100:.2f}%\")\n",
    "#print(f\"Precison : {precision_score(y_test, y_pred)}\")\n",
    "#print(f\"Recall score : {recall_score(y_test, y_pred)}\")\n",
    "#print(f\"F1 score : {f1_score(y_test, y_pred)}\")"
   ]
  },
  {
   "cell_type": "code",
   "execution_count": 257,
   "id": "fa32142f",
   "metadata": {},
   "outputs": [
    {
     "name": "stdout",
     "output_type": "stream",
     "text": [
      "RandomForstRegressor Model accuracy: 50.36%\n"
     ]
    }
   ],
   "source": [
    "from sklearn.metrics import accuracy_score\n",
    "from sklearn.ensemble import RandomForestRegressor\n",
    "from sklearn.model_selection import train_test_split\n",
    "\n",
    "np.random.seed(42)\n",
    "\n",
    "#create x,y\n",
    "x = sales_train.drop([\"Item_Identifier\", \"Item_Type\", \"Outlet_Establishment_Year\", \"Outlet_Identifier\", \"Item_Outlet_Sales\"], axis=1)\n",
    "y = sales_train[\"Item_Outlet_Sales\"]\n",
    "\n",
    "#Splitting the data\n",
    "x_train, x_test, y_train, y_test = train_test_split(x, y, test_size=0.2)\n",
    "\n",
    "#mdoel\n",
    "model = RandomForestRegressor(n_estimators=100)\n",
    "\n",
    "#fitting\n",
    "model.fit(x_train, y_train)\n",
    "\n",
    "#Score\n",
    "model_score = model.score(x_test, y_test)\n",
    "np.mean(model_score)\n",
    "print(f\"RandomForstRegressor Model accuracy: {np.mean(model_score)*100:.2f}%\")"
   ]
  },
  {
   "cell_type": "code",
   "execution_count": 246,
   "id": "ed2978f9",
   "metadata": {},
   "outputs": [
    {
     "name": "stdout",
     "output_type": "stream",
     "text": [
      "Single score 0.503628724218331\n",
      "Cross score 0.49845328691278307\n"
     ]
    }
   ],
   "source": [
    "from sklearn.model_selection import cross_val_score\n",
    "\n",
    "# Compairing the single train score and multiple train score\n",
    "np.random.seed(42)\n",
    "model_single_score = model.score(x_test,y_test)\n",
    "model_cross_val_score = np.mean(cross_val_score(model,x,y, cv=5))\n",
    "print(\"Single score\",model_single_score)\n",
    "print(\"Cross score\",model_cross_val_score)"
   ]
  },
  {
   "cell_type": "code",
   "execution_count": 244,
   "id": "c8ac8c5f",
   "metadata": {},
   "outputs": [
    {
     "name": "stdout",
     "output_type": "stream",
     "text": [
      "Regressioin metrics on the test set\n",
      "R2 Score : 0.503628724218331\n",
      "Mean_Absolute_Error : 809.4441695398198\n",
      "Mean_Square_Error : 1349122.0443342458\n",
      "ROOT MEAN SQUARED ERROR(RMSE) 1066.7511794158186\n",
      "SCORE 0.5813205293585394\n"
     ]
    }
   ],
   "source": [
    "from sklearn.metrics import r2_score, mean_absolute_error, mean_squared_error, SCORERS\n",
    "from sklearn.ensemble import RandomForestRegressor\n",
    "\n",
    "np.random.seed(42)\n",
    "\n",
    "#Prediction\n",
    "y_pred = model.predict(x_test)\n",
    "\n",
    "#Evaluate\n",
    "print(\"Regressioin metrics on the test set\")\n",
    "print(f\"R2 Score : {r2_score(y_test, y_pred)}\")\n",
    "print(f\"Mean_Absolute_Error : {mean_absolute_error(y_test, y_pred)}\")\n",
    "print(f\"Mean_Square_Error : {mean_squared_error(y_test, y_pred)}\")\n",
    "print(\"ROOT MEAN SQUARED ERROR(RMSE)\",np.sqrt(mean_squared_error(y_test,predicted)))\n",
    "print(\"SCORE\",lrm.score(x_test,y_test))"
   ]
  },
  {
   "cell_type": "code",
   "execution_count": 249,
   "id": "de0fce92",
   "metadata": {},
   "outputs": [
    {
     "data": {
      "text/html": [
       "<div>\n",
       "<style scoped>\n",
       "    .dataframe tbody tr th:only-of-type {\n",
       "        vertical-align: middle;\n",
       "    }\n",
       "\n",
       "    .dataframe tbody tr th {\n",
       "        vertical-align: top;\n",
       "    }\n",
       "\n",
       "    .dataframe thead th {\n",
       "        text-align: right;\n",
       "    }\n",
       "</style>\n",
       "<table border=\"1\" class=\"dataframe\">\n",
       "  <thead>\n",
       "    <tr style=\"text-align: right;\">\n",
       "      <th></th>\n",
       "      <th>actual values</th>\n",
       "      <th>prediction values</th>\n",
       "      <th>difference</th>\n",
       "    </tr>\n",
       "  </thead>\n",
       "  <tbody>\n",
       "    <tr>\n",
       "      <th>7503</th>\n",
       "      <td>1743</td>\n",
       "      <td>1353.004171</td>\n",
       "      <td>-389.995829</td>\n",
       "    </tr>\n",
       "    <tr>\n",
       "      <th>2957</th>\n",
       "      <td>356</td>\n",
       "      <td>690.857176</td>\n",
       "      <td>334.857176</td>\n",
       "    </tr>\n",
       "    <tr>\n",
       "      <th>7031</th>\n",
       "      <td>377</td>\n",
       "      <td>853.373453</td>\n",
       "      <td>476.373453</td>\n",
       "    </tr>\n",
       "    <tr>\n",
       "      <th>1084</th>\n",
       "      <td>5778</td>\n",
       "      <td>4251.245447</td>\n",
       "      <td>-1526.754553</td>\n",
       "    </tr>\n",
       "    <tr>\n",
       "      <th>856</th>\n",
       "      <td>2356</td>\n",
       "      <td>3324.589344</td>\n",
       "      <td>968.589344</td>\n",
       "    </tr>\n",
       "    <tr>\n",
       "      <th>4304</th>\n",
       "      <td>865</td>\n",
       "      <td>655.280941</td>\n",
       "      <td>-209.719059</td>\n",
       "    </tr>\n",
       "    <tr>\n",
       "      <th>2132</th>\n",
       "      <td>4613</td>\n",
       "      <td>4764.572836</td>\n",
       "      <td>151.572836</td>\n",
       "    </tr>\n",
       "    <tr>\n",
       "      <th>1385</th>\n",
       "      <td>2410</td>\n",
       "      <td>2044.846980</td>\n",
       "      <td>-365.153020</td>\n",
       "    </tr>\n",
       "    <tr>\n",
       "      <th>5239</th>\n",
       "      <td>1948</td>\n",
       "      <td>1377.889432</td>\n",
       "      <td>-570.110568</td>\n",
       "    </tr>\n",
       "    <tr>\n",
       "      <th>6516</th>\n",
       "      <td>1937</td>\n",
       "      <td>2780.594207</td>\n",
       "      <td>843.594207</td>\n",
       "    </tr>\n",
       "  </tbody>\n",
       "</table>\n",
       "</div>"
      ],
      "text/plain": [
       "      actual values  prediction values   difference\n",
       "7503           1743        1353.004171  -389.995829\n",
       "2957            356         690.857176   334.857176\n",
       "7031            377         853.373453   476.373453\n",
       "1084           5778        4251.245447 -1526.754553\n",
       "856            2356        3324.589344   968.589344\n",
       "4304            865         655.280941  -209.719059\n",
       "2132           4613        4764.572836   151.572836\n",
       "1385           2410        2044.846980  -365.153020\n",
       "5239           1948        1377.889432  -570.110568\n",
       "6516           1937        2780.594207   843.594207"
      ]
     },
     "execution_count": 249,
     "metadata": {},
     "output_type": "execute_result"
    }
   ],
   "source": [
    "# In tabular way to represent\n",
    "df = pd.DataFrame(data={\"actual values\": y_test,\n",
    "                        \"prediction values\": predicted})\n",
    "\n",
    "df[\"difference\"] = df[\"prediction values\"] - df[\"actual values\"]\n",
    "df.head(10)"
   ]
  },
  {
   "cell_type": "markdown",
   "id": "7289b094",
   "metadata": {},
   "source": [
    "## XGBoost regression"
   ]
  },
  {
   "cell_type": "code",
   "execution_count": 253,
   "id": "c667d47d",
   "metadata": {},
   "outputs": [
    {
     "name": "stdout",
     "output_type": "stream",
     "text": [
      "XGBoost Model accuracy: 50.36%\n"
     ]
    }
   ],
   "source": [
    "import xgboost as xg\n",
    "from sklearn.model_selection import train_test_split\n",
    "\n",
    "np.random.seed(42)\n",
    "\n",
    "#create x,y\n",
    "x = sales_train.drop([\"Item_Identifier\", \"Item_Type\", \"Outlet_Establishment_Year\", \"Outlet_Identifier\", \"Item_Outlet_Sales\"], axis=1)\n",
    "y = sales_train[\"Item_Outlet_Sales\"]\n",
    "\n",
    "#Splitting the data\n",
    "x_train, x_test, y_train, y_test = train_test_split(x, y, test_size=0.2)\n",
    "\n",
    "#mdoel\n",
    "xgb_r = xg.XGBRegressor()\n",
    "\n",
    "#fitting\n",
    "xgb_r.fit(x_train, y_train)\n",
    "\n",
    "#Score\n",
    "xgb_r_score = model.score(x_test, y_test)\n",
    "np.mean(xgb_r_score)\n",
    "print(f\"XGBoost Model accuracy: {np.mean(xgb_r_score)*100:.2f}%\")"
   ]
  },
  {
   "cell_type": "code",
   "execution_count": 254,
   "id": "21fe2fa8",
   "metadata": {},
   "outputs": [
    {
     "name": "stdout",
     "output_type": "stream",
     "text": [
      "Single score 0.5186832630696916\n",
      "Cross score 0.5120293402057186\n"
     ]
    }
   ],
   "source": [
    "from sklearn.model_selection import cross_val_score\n",
    "\n",
    "# Compairing the single train score and multiple train score\n",
    "np.random.seed(42)\n",
    "xgb_r_single_score = xgb_r.score(x_test,y_test)\n",
    "xgb_r_cross_val_score = np.mean(cross_val_score(xgb_r,x,y, cv=5))\n",
    "print(\"Single score\",xgb_r_single_score)\n",
    "print(\"Cross score\",xgb_r_cross_val_score)"
   ]
  },
  {
   "cell_type": "code",
   "execution_count": 256,
   "id": "64e673e8",
   "metadata": {},
   "outputs": [
    {
     "name": "stdout",
     "output_type": "stream",
     "text": [
      "Regressioin metrics on the test set\n",
      "R2 Score : 0.5186832630696916\n",
      "Mean_Absolute_Error : 791.0571315709446\n",
      "Mean_Square_Error : 1308204.2651987132\n",
      "ROOT MEAN SQUARED ERROR(RMSE) 1066.7511794158186\n",
      "SCORE 0.5813205293585394\n"
     ]
    }
   ],
   "source": [
    "from sklearn.metrics import r2_score, mean_absolute_error, mean_squared_error, SCORERS\n",
    "\n",
    "np.random.seed(42)\n",
    "\n",
    "#Prediction\n",
    "y_pred = xgb_r.predict(x_test)\n",
    "\n",
    "#Evaluate\n",
    "print(\"Regressioin metrics on the test set\")\n",
    "print(f\"R2 Score : {r2_score(y_test, y_pred)}\")\n",
    "print(f\"Mean_Absolute_Error : {mean_absolute_error(y_test, y_pred)}\")\n",
    "print(f\"Mean_Square_Error : {mean_squared_error(y_test, y_pred)}\")\n",
    "print(\"ROOT MEAN SQUARED ERROR(RMSE)\",np.sqrt(mean_squared_error(y_test,predicted)))\n",
    "print(\"SCORE\",lrm.score(x_test,y_test))"
   ]
  },
  {
   "cell_type": "markdown",
   "id": "81e4992c",
   "metadata": {},
   "source": [
    "## Summary\n",
    "\n",
    "### Compairing all the model\n",
    "     LinearRegression : LinearRegression Model accuracy: 58.13%\n",
    "         > Single score 0.5813205293585394\n",
    "         > Cross score 0.5615012242066324\n",
    "         > Regressioin metrics on the test set\n",
    "         > MEAN SQUARED ERROR(MSE) 1137958.0787850397\n",
    "         > MEAN ABSOLUTE ERROR(MAE) 790.3286988964805\n",
    "         > ROOT MEAN SQUARED ERROR(RMSE) 1066.7511794158186\n",
    "         > SCORE 0.5813205293585394\n",
    "         \n",
    "         \n",
    "     Random Forest Regressor : RandomForstRegressor Model accuracy: 50.36%\n",
    "         > Single score 0.503628724218331\n",
    "         > Cross score 0.49845328691278307\n",
    "         > Regressioin metrics on the test set\n",
    "         > R2 Score : 0.503628724218331\n",
    "         > Mean_Absolute_Error : 809.4441695398198\n",
    "         > Mean_Square_Error : 1349122.0443342458\n",
    "         > ROOT MEAN SQUARED ERROR(RMSE) 1066.7511794158186\n",
    "         > SCORE 0.5813205293585394\n",
    "         \n",
    "         \n",
    "     XGBoost : XGBoost Model accuracy: 50.36%\n",
    "         > Single score 0.5186832630696916\n",
    "         > Cross score 0.5120293402057186\n",
    "         > XGBoost Regressioin metrics on the test set\n",
    "         > R2 Score : 0.5186832630696916\n",
    "         > Mean_Absolute_Error : 791.0571315709446\n",
    "         > Mean_Square_Error : 1308204.2651987132\n",
    "         > ROOT MEAN SQUARED ERROR(RMSE) 1066.7511794158186\n",
    "         > SCORE 0.5813205293585394\n",
    "         \n",
    "         \n",
    "` We discovered that the Linear Regression model gave us the most incredible score, 58.13%, out of all the tested models we tested. As a result, we conclude that linear regression is our predictive model and complete our investigation.`\n",
    "         "
   ]
  },
  {
   "cell_type": "code",
   "execution_count": null,
   "id": "c722c1d2",
   "metadata": {},
   "outputs": [],
   "source": []
  }
 ],
 "metadata": {
  "kernelspec": {
   "display_name": "Python 3 (ipykernel)",
   "language": "python",
   "name": "python3"
  },
  "language_info": {
   "codemirror_mode": {
    "name": "ipython",
    "version": 3
   },
   "file_extension": ".py",
   "mimetype": "text/x-python",
   "name": "python",
   "nbconvert_exporter": "python",
   "pygments_lexer": "ipython3",
   "version": "3.9.7"
  }
 },
 "nbformat": 4,
 "nbformat_minor": 5
}
